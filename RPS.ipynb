{
  "nbformat": 4,
  "nbformat_minor": 0,
  "metadata": {
    "colab": {
      "name": "RPS.ipynb",
      "provenance": []
    },
    "kernelspec": {
      "name": "python3",
      "display_name": "Python 3"
    },
    "language_info": {
      "name": "python"
    },
    "accelerator": "GPU"
  },
  "cells": [
    {
      "cell_type": "code",
      "execution_count": 8,
      "metadata": {
        "colab": {
          "base_uri": "https://localhost:8080/"
        },
        "id": "kIBIfEZ01P5p",
        "outputId": "2c2edc03-198f-4181-9c4d-bb7f4fafb68c"
      },
      "outputs": [
        {
          "output_type": "stream",
          "name": "stdout",
          "text": [
            "--2022-05-05 11:18:36--  https://storage.googleapis.com/laurencemoroney-blog.appspot.com/rps.zip\n",
            "Resolving storage.googleapis.com (storage.googleapis.com)... 142.250.125.128, 209.85.200.128, 172.217.214.128, ...\n",
            "Connecting to storage.googleapis.com (storage.googleapis.com)|142.250.125.128|:443... connected.\n",
            "HTTP request sent, awaiting response... 200 OK\n",
            "Length: 200682221 (191M) [application/zip]\n",
            "Saving to: ‘/tmp/rps.zip’\n",
            "\n",
            "/tmp/rps.zip        100%[===================>] 191.38M   223MB/s    in 0.9s    \n",
            "\n",
            "2022-05-05 11:18:37 (223 MB/s) - ‘/tmp/rps.zip’ saved [200682221/200682221]\n",
            "\n",
            "--2022-05-05 11:18:37--  https://storage.googleapis.com/laurencemoroney-blog.appspot.com/rps-test-set.zip\n",
            "Resolving storage.googleapis.com (storage.googleapis.com)... 142.250.125.128, 209.85.200.128, 172.217.214.128, ...\n",
            "Connecting to storage.googleapis.com (storage.googleapis.com)|142.250.125.128|:443... connected.\n",
            "HTTP request sent, awaiting response... 200 OK\n",
            "Length: 29516758 (28M) [application/zip]\n",
            "Saving to: ‘/tmp/rps-test-set.zip’\n",
            "\n",
            "/tmp/rps-test-set.z 100%[===================>]  28.15M   178MB/s    in 0.2s    \n",
            "\n",
            "2022-05-05 11:18:37 (178 MB/s) - ‘/tmp/rps-test-set.zip’ saved [29516758/29516758]\n",
            "\n",
            "['rock04-041.png', 'rock07-k03-079.png', 'rock06ck02-078.png', 'rock01-000.png', 'rock02-078.png', 'rock02-062.png', 'rock06ck02-006.png', 'rock07-k03-030.png', 'rock01-010.png', 'rock02-106.png']\n",
            "['paper04-015.png', 'paper03-036.png', 'paper03-021.png', 'paper02-099.png', 'paper03-075.png', 'paper07-022.png', 'paper05-119.png', 'paper06-016.png', 'paper05-067.png', 'paper06-095.png']\n",
            "['scissors02-086.png', 'testscissors01-032.png', 'testscissors01-084.png', 'testscissors01-087.png', 'testscissors03-103.png', 'scissors03-084.png', 'scissors04-076.png', 'scissors02-041.png', 'scissors02-020.png', 'testscissors02-088.png']\n",
            "Found 2520 images belonging to 3 classes.\n",
            "Found 372 images belonging to 3 classes.\n"
          ]
        }
      ],
      "source": [
        "# Download datasets\n",
        "\n",
        "# https://storage.googleapis.com/laurencemoroney-blog.appspot.com/rps.zip\n",
        "# https://storage.googleapis.com/laurencemoroney-blog.appspot.com/rps-test-set.zip\n",
        "\n",
        "# Upload datasets to /tmp folder\n",
        "\n",
        "import os\n",
        "import zipfile\n",
        "import tensorflow as tf\n",
        "import keras_preprocessing\n",
        "from keras_preprocessing import image\n",
        "from keras_preprocessing.image import ImageDataGenerator\n",
        "\n",
        "!wget --no-check-certificate \\\n",
        "    https://storage.googleapis.com/laurencemoroney-blog.appspot.com/rps.zip \\\n",
        "    -O /tmp/rps.zip\n",
        "  \n",
        "!wget --no-check-certificate \\\n",
        "    https://storage.googleapis.com/laurencemoroney-blog.appspot.com/rps-test-set.zip \\\n",
        "    -O /tmp/rps-test-set.zip\n",
        "\n",
        "local_zip = '/tmp/rps.zip'\n",
        "zip_ref = zipfile.ZipFile(local_zip, 'r')\n",
        "zip_ref.extractall('/tmp/')\n",
        "zip_ref.close()\n",
        "\n",
        "local_zip = '/tmp/rps-test-set.zip'\n",
        "zip_ref = zipfile.ZipFile(local_zip, 'r')\n",
        "zip_ref.extractall('/tmp/')\n",
        "zip_ref.close()\n",
        "\n",
        "rock_dir = os.path.join('/tmp/rps/rock')\n",
        "paper_dir = os.path.join('/tmp/rps/paper')\n",
        "scissors_dir = os.path.join('/tmp/rps/scissors')\n",
        "\n",
        "rock_files = os.listdir(rock_dir)\n",
        "print(rock_files[:10])\n",
        "paper_files = os.listdir(paper_dir)\n",
        "print(paper_files[:10])\n",
        "scissors_files = os.listdir(scissors_dir)\n",
        "print(scissors_files[:10])\n",
        "\n",
        "# YOUR TURN\n",
        "\n",
        "TRAINING_DIR = \"/tmp/rps/\"\n",
        "training_datagen = ImageDataGenerator(rescale=1./255,\n",
        "                                      rotation_range=20,\n",
        "                                      width_shift_range=0.1,\n",
        "                                      height_shift_range=0.1,\n",
        "                                      zoom_range=0.1)\n",
        "\n",
        "VALIDATION_DIR = \"/tmp/rps-test-set/\"\n",
        "validation_datagen = ImageDataGenerator(rescale=1./255)\n",
        "\n",
        "train_generator = training_datagen.flow_from_directory(TRAINING_DIR,\n",
        "                                                       batch_size=32,\n",
        "                                                       target_size=(150, 150),\n",
        "                                                       class_mode=\"binary\",\n",
        "                                                       seed=42)\n",
        "\n",
        "validation_generator = validation_datagen.flow_from_directory(VALIDATION_DIR,\n",
        "                                                              batch_size=32,\n",
        "                                                              target_size=(150, 150),\n",
        "                                                              class_mode=\"binary\",\n",
        "                                                              seed=42)"
      ]
    },
    {
      "cell_type": "code",
      "source": [
        "model = tf.keras.models.Sequential([\n",
        "    \n",
        "    tf.keras.layers.Conv2D(64, 3, activation='relu', input_shape=(150, 150, 3)),\n",
        "    tf.keras.layers.MaxPool2D(),\n",
        "    tf.keras.layers.Conv2D(128, 3, activation = \"relu\"),\n",
        "    tf.keras.layers.Dropout(0.5),\n",
        "    tf.keras.layers.MaxPool2D(2),\n",
        "    tf.keras.layers.Conv2D(128, 3, activation=\"relu\"),\n",
        "    tf.keras.layers.MaxPool2D(2),\n",
        "    tf.keras.layers.Conv2D(64, 3, activation=\"relu\"),\n",
        "    tf.keras.layers.MaxPool2D(2),    \n",
        "    tf.keras.layers.Dropout(0.4),\n",
        "    tf.keras.layers.Flatten(),\n",
        "    tf.keras.layers.Dense(256, activation='relu'),\n",
        "    tf.keras.layers.Dense(3, activation='softmax')\n",
        "])\n",
        "\n",
        "model.compile(loss = 'sparse_categorical_crossentropy', optimizer=tf.keras.optimizers.Adam(lr = 0.0001), metrics=['accuracy'])\n",
        "history = model.fit(train_generator, epochs=15, steps_per_epoch = 20, validation_data = validation_generator)"
      ],
      "metadata": {
        "colab": {
          "base_uri": "https://localhost:8080/"
        },
        "id": "PC5nv4vj1VVz",
        "outputId": "da54043a-48ee-4eca-ba3c-c6555247d000"
      },
      "execution_count": 9,
      "outputs": [
        {
          "output_type": "stream",
          "name": "stderr",
          "text": [
            "/usr/local/lib/python3.7/dist-packages/keras/optimizer_v2/adam.py:105: UserWarning: The `lr` argument is deprecated, use `learning_rate` instead.\n",
            "  super(Adam, self).__init__(name, **kwargs)\n"
          ]
        },
        {
          "output_type": "stream",
          "name": "stdout",
          "text": [
            "Epoch 1/15\n",
            "20/20 [==============================] - 11s 417ms/step - loss: 1.0957 - accuracy: 0.3877 - val_loss: 1.0919 - val_accuracy: 0.3333\n",
            "Epoch 2/15\n",
            "20/20 [==============================] - 7s 374ms/step - loss: 1.0793 - accuracy: 0.4256 - val_loss: 1.0779 - val_accuracy: 0.4651\n",
            "Epoch 3/15\n",
            "20/20 [==============================] - 7s 372ms/step - loss: 1.0171 - accuracy: 0.5332 - val_loss: 1.0438 - val_accuracy: 0.5323\n",
            "Epoch 4/15\n",
            "20/20 [==============================] - 7s 366ms/step - loss: 0.9242 - accuracy: 0.5823 - val_loss: 0.9649 - val_accuracy: 0.5995\n",
            "Epoch 5/15\n",
            "20/20 [==============================] - 7s 365ms/step - loss: 0.8339 - accuracy: 0.6313 - val_loss: 0.8503 - val_accuracy: 0.6989\n",
            "Epoch 6/15\n",
            "20/20 [==============================] - 7s 371ms/step - loss: 0.7142 - accuracy: 0.7041 - val_loss: 0.7853 - val_accuracy: 0.7016\n",
            "Epoch 7/15\n",
            "20/20 [==============================] - 7s 373ms/step - loss: 0.5734 - accuracy: 0.7641 - val_loss: 0.6608 - val_accuracy: 0.7473\n",
            "Epoch 8/15\n",
            "20/20 [==============================] - 8s 383ms/step - loss: 0.4436 - accuracy: 0.8391 - val_loss: 0.5052 - val_accuracy: 0.8898\n",
            "Epoch 9/15\n",
            "20/20 [==============================] - 8s 375ms/step - loss: 0.3609 - accuracy: 0.8781 - val_loss: 0.4047 - val_accuracy: 0.9382\n",
            "Epoch 10/15\n",
            "20/20 [==============================] - 7s 370ms/step - loss: 0.3184 - accuracy: 0.8892 - val_loss: 0.3643 - val_accuracy: 0.9516\n",
            "Epoch 11/15\n",
            "20/20 [==============================] - 8s 377ms/step - loss: 0.2399 - accuracy: 0.9156 - val_loss: 0.2718 - val_accuracy: 0.9785\n",
            "Epoch 12/15\n",
            "20/20 [==============================] - 7s 368ms/step - loss: 0.2047 - accuracy: 0.9344 - val_loss: 0.2788 - val_accuracy: 0.9301\n",
            "Epoch 13/15\n",
            "20/20 [==============================] - 8s 381ms/step - loss: 0.2171 - accuracy: 0.9047 - val_loss: 0.2632 - val_accuracy: 0.9382\n",
            "Epoch 14/15\n",
            "20/20 [==============================] - 8s 381ms/step - loss: 0.2224 - accuracy: 0.9172 - val_loss: 0.2360 - val_accuracy: 0.9866\n",
            "Epoch 15/15\n",
            "20/20 [==============================] - 8s 379ms/step - loss: 0.1538 - accuracy: 0.9531 - val_loss: 0.2115 - val_accuracy: 0.9597\n"
          ]
        }
      ]
    },
    {
      "cell_type": "code",
      "source": [
        "print(history.history['accuracy'])\n",
        "print(history.history['val_accuracy'])\n",
        "print(history.history['loss'])\n",
        "print(history.history['val_loss'])"
      ],
      "metadata": {
        "colab": {
          "base_uri": "https://localhost:8080/"
        },
        "id": "nRzOpzfH3WA0",
        "outputId": "79fb2c46-25c8-4d81-c77a-78010683ccaa"
      },
      "execution_count": 10,
      "outputs": [
        {
          "output_type": "stream",
          "name": "stdout",
          "text": [
            "[0.3876582384109497, 0.42563292384147644, 0.5332278609275818, 0.5822784900665283, 0.6313291192054749, 0.7041139006614685, 0.7640625238418579, 0.839062511920929, 0.878125011920929, 0.8892405033111572, 0.9156249761581421, 0.934374988079071, 0.9046875238418579, 0.917187511920929, 0.953125]\n",
            "[0.3333333432674408, 0.4650537669658661, 0.5322580933570862, 0.5994623899459839, 0.698924720287323, 0.7016128897666931, 0.7473118305206299, 0.8897849321365356, 0.9381720423698425, 0.9516128897666931, 0.9784946441650391, 0.9301075339317322, 0.9381720423698425, 0.9865591526031494, 0.9596773982048035]\n",
            "[1.0957293510437012, 1.0792853832244873, 1.0170707702636719, 0.9241960048675537, 0.8339383006095886, 0.7141956090927124, 0.5734025835990906, 0.44356971979141235, 0.36090031266212463, 0.3184496760368347, 0.2398926317691803, 0.20465989410877228, 0.21711894869804382, 0.22239363193511963, 0.15381421148777008]\n",
            "[1.0918595790863037, 1.0779389142990112, 1.043806552886963, 0.9649077653884888, 0.850281834602356, 0.785333514213562, 0.6607815027236938, 0.5052151679992676, 0.4047052264213562, 0.3642541170120239, 0.27180615067481995, 0.2787870168685913, 0.2631613314151764, 0.23602159321308136, 0.21150115132331848]\n"
          ]
        }
      ]
    },
    {
      "cell_type": "code",
      "source": [
        "import matplotlib.pyplot as plt\n",
        "import matplotlib.image as mpimg"
      ],
      "metadata": {
        "id": "RIHBjtYd9d22"
      },
      "execution_count": 11,
      "outputs": []
    },
    {
      "cell_type": "code",
      "source": [
        "# Plot the validation and training data separately\n",
        "def plot_loss_curves(history):\n",
        "  \"\"\"\n",
        "  Returns separate loss curves for training and validation metrics.\n",
        "  \"\"\" \n",
        "  loss = history.history['loss']\n",
        "  val_loss = history.history['val_loss']\n",
        "\n",
        "  accuracy = history.history['accuracy']\n",
        "  val_accuracy = history.history['val_accuracy']\n",
        "\n",
        "  epochs = range(len(history.history['loss']))\n",
        "\n",
        "  # Plot loss\n",
        "  plt.plot(epochs, loss, label='training_loss')\n",
        "  plt.plot(epochs, val_loss, label='val_loss')\n",
        "  plt.title('Loss')\n",
        "  plt.xlabel('Epochs')\n",
        "  plt.legend()\n",
        "\n",
        "  # Plot accuracy\n",
        "  plt.figure()\n",
        "  plt.plot(epochs, accuracy, label='training_accuracy')\n",
        "  plt.plot(epochs, val_accuracy, label='val_accuracy')\n",
        "  plt.title('Accuracy')\n",
        "  plt.xlabel('Epochs')\n",
        "  plt.legend();"
      ],
      "metadata": {
        "id": "z3Y4bSOa9UPf"
      },
      "execution_count": 12,
      "outputs": []
    },
    {
      "cell_type": "code",
      "source": [
        "plot_loss_curves(history)"
      ],
      "metadata": {
        "colab": {
          "base_uri": "https://localhost:8080/",
          "height": 573
        },
        "id": "CdSHJwBn9YCk",
        "outputId": "0fce7a5c-8702-41ae-bd15-559888c4ed7a"
      },
      "execution_count": 13,
      "outputs": [
        {
          "output_type": "display_data",
          "data": {
            "text/plain": [
              "<Figure size 432x288 with 1 Axes>"
            ],
            "image/png": "[encoded data removed]"
          },
          "metadata": {
            "needs_background": "light"
          }
        },
        {
          "output_type": "display_data",
          "data": {
            "text/plain": [
              "<Figure size 432x288 with 1 Axes>"
            ],
            "image/png": "[encoded data removed]"
          },
          "metadata": {
            "needs_background": "light"
          }
        }
      ]
    },
    {
      "cell_type": "code",
      "source": [
        "model.save(\"RPS.h5\")"
      ],
      "metadata": {
        "id": "ibrALE6M3Yk7"
      },
      "execution_count": null,
      "outputs": []
    },
    {
      "cell_type": "code",
      "source": [
        ""
      ],
      "metadata": {
        "id": "68MWHjEP9nJG"
      },
      "execution_count": null,
      "outputs": []
    }
  ]
}