{
  "nbformat": 4,
  "nbformat_minor": 0,
  "metadata": {
    "colab": {
      "name": "CNN_SignMnist.ipynb",
      "provenance": []
    },
    "kernelspec": {
      "name": "python3",
      "display_name": "Python 3"
    },
    "language_info": {
      "name": "python"
    },
    "accelerator": "GPU"
  },
  "cells": [
    {
      "cell_type": "code",
      "source": [
        "#!/usr/bin/env python\n",
        "# coding: utf-8\n",
        "import csv\n",
        "import numpy as np\n",
        "import tensorflow as tf\n",
        "from tensorflow.keras.preprocessing.image import ImageDataGenerator\n",
        "import pandas as pd\n",
        "from tensorflow.keras.layers import SpatialDropout2D"
      ],
      "metadata": {
        "id": "4r_Td72Xo5ke"
      },
      "execution_count": 2,
      "outputs": []
    },
    {
      "cell_type": "code",
      "source": [
        "# The data for this exercise is available at: https://www.kaggle.com/datamunge/sign-language-mnist/home\n",
        "# Sign up and download to find 2 CSV files: sign_mnist_test.csv and sign_mnist_train.csv\n",
        "\n",
        "def get_data(filename):\n",
        "  with open(filename) as training_file:\n",
        "    content=pd.read_csv(training_file)\n",
        "    print(type(content))\n",
        "    pixels=content.iloc[:,1:785].values\n",
        "    labels=content.iloc[:,0].values\n",
        "    labels=(labels-np.ones(labels.shape)*(labels>8)).astype(int)\n",
        "    print(type(pixels))\n",
        "    images=pixels.reshape(-1,28,28)\n",
        "  return images, labels"
      ],
      "metadata": {
        "id": "FuUtPt3-p6w4"
      },
      "execution_count": 3,
      "outputs": []
    },
    {
      "cell_type": "code",
      "source": [
        "training_images, training_labels=get_data('sign_mnist_train.csv')\n",
        "testing_images, testing_labels=get_data('sign_mnist_test.csv')\n",
        "\n",
        "# Keep these\n",
        "print(training_images.shape)\n",
        "print(training_labels.shape)\n",
        "print(testing_images.shape)\n",
        "print(testing_labels.shape)\n",
        "print(training_labels[:9])"
      ],
      "metadata": {
        "colab": {
          "base_uri": "https://localhost:8080/"
        },
        "id": "Z5LP4gtkqCpg",
        "outputId": "ca2225a8-7b8b-4c15-b897-262116c09fa7"
      },
      "execution_count": 5,
      "outputs": [
        {
          "output_type": "stream",
          "name": "stdout",
          "text": [
            "<class 'pandas.core.frame.DataFrame'>\n",
            "<class 'numpy.ndarray'>\n",
            "<class 'pandas.core.frame.DataFrame'>\n",
            "<class 'numpy.ndarray'>\n",
            "(27455, 28, 28)\n",
            "(27455,)\n",
            "(7172, 28, 28)\n",
            "(7172,)\n",
            "[ 3  6  2  2 12 15  8 21  3]\n"
          ]
        }
      ]
    },
    {
      "cell_type": "code",
      "source": [
        "classes, train_counts=np.unique(training_labels, return_counts=True)\n",
        "_, test_counts=np.unique(testing_labels, return_counts=True)\n",
        "\n",
        "print(classes)\n",
        "print(train_counts)\n",
        "print(len(classes))"
      ],
      "metadata": {
        "colab": {
          "base_uri": "https://localhost:8080/"
        },
        "id": "bvIaXaoWq6Ye",
        "outputId": "01b5ce24-fb9b-4f0c-fdf9-c5c579b148cd"
      },
      "execution_count": 6,
      "outputs": [
        {
          "output_type": "stream",
          "name": "stdout",
          "text": [
            "[ 0  1  2  3  4  5  6  7  8  9 10 11 12 13 14 15 16 17 18 19 20 21 22 23]\n",
            "[1126 1010 1144 1196  957 1204 1090 1013 1162 1114 1241 1055 1151 1196\n",
            " 1088 1279 1294 1199 1186 1161 1082 1225 1164 1118]\n",
            "24\n"
          ]
        }
      ]
    },
    {
      "cell_type": "code",
      "source": [
        "training_images=np.expand_dims(training_images, axis=3)\n",
        "testing_images=np.expand_dims(testing_images, axis=3)\n",
        "training_labels=np.expand_dims(training_labels, axis=1)\n",
        "testing_labels=np.expand_dims(testing_labels, axis=1)\n",
        "training_labels=tf.keras.utils.to_categorical(training_labels, num_classes=24)\n",
        "testing_labels=tf.keras.utils.to_categorical(testing_labels, num_classes=24)"
      ],
      "metadata": {
        "id": "qNqyrgJHresU"
      },
      "execution_count": 7,
      "outputs": []
    },
    {
      "cell_type": "code",
      "source": [
        "train_datagen=ImageDataGenerator(\n",
        "    rescale=1./255,\n",
        "    rotation_range=20,\n",
        "    width_shift_range=0.1,\n",
        "    height_shift_range=0.1,\n",
        "    zoom_range=0.1\n",
        ")\n",
        "\n",
        "validation_datagen=ImageDataGenerator(\n",
        "    rescale=1./255)\n",
        "\n",
        "print(training_images.shape)\n",
        "print(testing_images.shape)\n",
        "print(training_labels.shape)\n",
        "print(testing_labels.shape)\n",
        "print(training_labels[:3])\n",
        "print(training_images.shape)"
      ],
      "metadata": {
        "colab": {
          "base_uri": "https://localhost:8080/"
        },
        "id": "ILzRcEXItYpu",
        "outputId": "a0868309-603c-4b50-d481-60923f39f77e"
      },
      "execution_count": 19,
      "outputs": [
        {
          "output_type": "stream",
          "name": "stdout",
          "text": [
            "(27455, 28, 28, 1)\n",
            "(7172, 28, 28, 1)\n",
            "(27455, 24)\n",
            "(7172, 24)\n",
            "[[0. 0. 0. 1. 0. 0. 0. 0. 0. 0. 0. 0. 0. 0. 0. 0. 0. 0. 0. 0. 0. 0. 0. 0.]\n",
            " [0. 0. 0. 0. 0. 0. 1. 0. 0. 0. 0. 0. 0. 0. 0. 0. 0. 0. 0. 0. 0. 0. 0. 0.]\n",
            " [0. 0. 1. 0. 0. 0. 0. 0. 0. 0. 0. 0. 0. 0. 0. 0. 0. 0. 0. 0. 0. 0. 0. 0.]]\n",
            "(27455, 28, 28, 1)\n"
          ]
        }
      ]
    },
    {
      "cell_type": "code",
      "source": [
        "# model=tf.keras.models.Sequential([\n",
        "#                                   tf.keras.layers.Conv2D(64,3,activation='elu', input_shape=(28,28,1)),\n",
        "#                                   tf.keras.layers.MaxPooling2D(2,2),\n",
        "#                                   #tf.keras.layers.Conv2D(32,3, activation='relu'),\n",
        "#                                   #tf.keras.layers.MaxPooling2D(2,2),\n",
        "#                                   tf.keras.layers.Flatten(),\n",
        "#                                   tf.keras.layers.Dense(128, activation='elu'),\n",
        "#                                   #tf.keras.layers.Dense(64,activation='relu'),\n",
        "#                                   tf.keras.layers.Dense(24, activation='softmax')\n",
        "# ])"
      ],
      "metadata": {
        "id": "ULAwqAzDxz5S"
      },
      "execution_count": 37,
      "outputs": []
    },
    {
      "cell_type": "code",
      "source": [
        "training_data=train_datagen.flow(training_images, training_labels, batch_size=32)\n",
        "validation_data=validation_datagen.flow(testing_images, testing_labels, batch_size=32)"
      ],
      "metadata": {
        "id": "IJKYUa4YM0D-"
      },
      "execution_count": 12,
      "outputs": []
    },
    {
      "cell_type": "code",
      "source": [
        "model = tf.keras.models.Sequential([\n",
        "    tf.keras.layers.Conv2D(16, (3,3), activation='relu', input_shape=(28,28,1)),\n",
        "    tf.keras.layers.MaxPooling2D(2,2),\n",
        "    tf.keras.layers.Conv2D(32, (3,3), activation='relu', ),\n",
        "    tf.keras.layers.MaxPooling2D(2,2),\n",
        "    tf.keras.layers.Flatten(),\n",
        "    # tf.keras.layers.BatchNormalization(),\n",
        "    # tf.keras.layers.Dropout(0.5),\n",
        "    tf.keras.layers.Dense(1024, activation='relu'),\n",
        "    tf.keras.layers.Dense(24, activation='softmax')])\n",
        "\n",
        "opt=tf.keras.optimizers.Adam(lr=0.001)\n",
        "model.compile(optimizer=opt,\n",
        "              loss='categorical_crossentropy',\n",
        "              metrics=['accuracy'])\n",
        "\n",
        "history=model.fit(training_data,epochs=10, validation_data=validation_data)"
      ],
      "metadata": {
        "colab": {
          "base_uri": "https://localhost:8080/"
        },
        "id": "Rj_UPwnIuET3",
        "outputId": "7361c649-eb3a-49f9-c8d4-eca6f4a80bd7"
      },
      "execution_count": 15,
      "outputs": [
        {
          "output_type": "stream",
          "name": "stdout",
          "text": [
            "Epoch 1/10\n"
          ]
        },
        {
          "output_type": "stream",
          "name": "stderr",
          "text": [
            "/usr/local/lib/python3.7/dist-packages/keras/optimizer_v2/adam.py:105: UserWarning: The `lr` argument is deprecated, use `learning_rate` instead.\n",
            "  super(Adam, self).__init__(name, **kwargs)\n"
          ]
        },
        {
          "output_type": "stream",
          "name": "stdout",
          "text": [
            "858/858 [==============================] - 26s 19ms/step - loss: 1.4067 - accuracy: 0.5610 - val_loss: 0.3519 - val_accuracy: 0.9010\n",
            "Epoch 2/10\n",
            "858/858 [==============================] - 16s 19ms/step - loss: 0.4424 - accuracy: 0.8558 - val_loss: 0.2193 - val_accuracy: 0.9371\n",
            "Epoch 3/10\n",
            "858/858 [==============================] - 16s 19ms/step - loss: 0.2423 - accuracy: 0.9209 - val_loss: 0.0927 - val_accuracy: 0.9748\n",
            "Epoch 4/10\n",
            "858/858 [==============================] - 17s 20ms/step - loss: 0.1578 - accuracy: 0.9493 - val_loss: 0.0740 - val_accuracy: 0.9693\n",
            "Epoch 5/10\n",
            "858/858 [==============================] - 16s 19ms/step - loss: 0.1108 - accuracy: 0.9639 - val_loss: 0.0384 - val_accuracy: 0.9887\n",
            "Epoch 6/10\n",
            "858/858 [==============================] - 16s 19ms/step - loss: 0.0851 - accuracy: 0.9736 - val_loss: 0.0408 - val_accuracy: 0.9877\n",
            "Epoch 7/10\n",
            "858/858 [==============================] - 16s 19ms/step - loss: 0.0728 - accuracy: 0.9767 - val_loss: 0.0509 - val_accuracy: 0.9847\n",
            "Epoch 8/10\n",
            "858/858 [==============================] - 23s 27ms/step - loss: 0.0566 - accuracy: 0.9822 - val_loss: 0.0272 - val_accuracy: 0.9870\n",
            "Epoch 9/10\n",
            "858/858 [==============================] - 16s 19ms/step - loss: 0.0543 - accuracy: 0.9821 - val_loss: 0.0363 - val_accuracy: 0.9837\n",
            "Epoch 10/10\n",
            "858/858 [==============================] - 23s 27ms/step - loss: 0.0499 - accuracy: 0.9845 - val_loss: 0.0396 - val_accuracy: 0.9840\n"
          ]
        }
      ]
    },
    {
      "cell_type": "code",
      "source": [
        "score = model.evaluate(testing_images, testing_labels, verbose=0)\n",
        "print(f'Test loss: {score[0]} / Test accuracy: {score[1]}')"
      ],
      "metadata": {
        "colab": {
          "base_uri": "https://localhost:8080/"
        },
        "id": "8CbvOpHYOdh0",
        "outputId": "87dda206-791a-4633-b836-8d3a00ac9a40"
      },
      "execution_count": 20,
      "outputs": [
        {
          "output_type": "stream",
          "name": "stdout",
          "text": [
            "Test loss: 29.972238540649414 / Test accuracy: 0.9283323884010315\n"
          ]
        }
      ]
    },
    {
      "cell_type": "code",
      "source": [
        "# Plot the validation and training data separately\n",
        "import matplotlib.pyplot as plt\n",
        "import matplotlib.image as mpimg\n",
        "\n",
        "def plot_loss_curves(history):\n",
        "  \"\"\"\n",
        "  Returns separate loss curves for training and validation metrics.\n",
        "  \"\"\" \n",
        "  loss = history.history['loss']\n",
        "  val_loss = history.history['val_loss']\n",
        "\n",
        "  accuracy = history.history['accuracy']\n",
        "  val_accuracy = history.history['val_accuracy']\n",
        "\n",
        "  epochs = range(len(history.history['loss']))\n",
        "\n",
        "  # Plot loss\n",
        "  plt.plot(epochs, loss, label='training_loss')\n",
        "  plt.plot(epochs, val_loss, label='val_loss')\n",
        "  plt.title('Loss')\n",
        "  plt.xlabel('Epochs')\n",
        "  plt.legend()\n",
        "\n",
        "  # Plot accuracy\n",
        "  plt.figure()\n",
        "  plt.plot(epochs, accuracy, label='training_accuracy')\n",
        "  plt.plot(epochs, val_accuracy, label='val_accuracy')\n",
        "  plt.title('Accuracy')\n",
        "  plt.xlabel('Epochs')\n",
        "  plt.legend();"
      ],
      "metadata": {
        "id": "t6g9bZVZNsmz"
      },
      "execution_count": 21,
      "outputs": []
    },
    {
      "cell_type": "code",
      "source": [
        "# Check out the loss curves of model_4\n",
        "plot_loss_curves(history)"
      ],
      "metadata": {
        "colab": {
          "base_uri": "https://localhost:8080/",
          "height": 573
        },
        "id": "ABS2WUtFNvJ2",
        "outputId": "7f1f62d3-1e55-4209-f9d3-58e5bf9a9fc2"
      },
      "execution_count": 22,
      "outputs": [
        {
          "output_type": "display_data",
          "data": {
            "text/plain": [
              "<Figure size 432x288 with 1 Axes>"
            ],
            "image/png": "[encoded data removed]"
          },
          "metadata": {
            "needs_background": "light"
          }
        },
        {
          "output_type": "display_data",
          "data": {
            "text/plain": [
              "<Figure size 432x288 with 1 Axes>"
            ],
            "image/png": "[encoded data removed]"
          },
          "metadata": {
            "needs_background": "light"
          }
        }
      ]
    },
    {
      "cell_type": "code",
      "source": [
        "model.save('SignMnist.h5')"
      ],
      "metadata": {
        "id": "85j-zZiuPEIz"
      },
      "execution_count": 23,
      "outputs": []
    },
    {
      "cell_type": "code",
      "source": [
        ""
      ],
      "metadata": {
        "id": "ektH5e_lPKR4"
      },
      "execution_count": null,
      "outputs": []
    }
  ]
}